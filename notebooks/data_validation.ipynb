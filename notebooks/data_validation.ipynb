{
 "cells": [
  {
   "cell_type": "code",
   "execution_count": 1,
   "metadata": {
    "ExecuteTime": {
     "end_time": "2021-09-25T13:01:13.629849Z",
     "start_time": "2021-09-25T13:00:53.907130Z"
    }
   },
   "outputs": [],
   "source": [
    "# import required libs\n",
    "import glob\n",
    "import os\n",
    "import sys\n",
    "\n",
    "import tensorflow as tf\n",
    "import tensorflow_data_validation as tfdv\n",
    "\n",
    "target_dir = os.path.dirname(os.getcwd())\n",
    "target_dir_fraud = target_dir + \"/fraud\"\n",
    "sys.path.extend([target_dir, target_dir_fraud])"
   ]
  },
  {
   "cell_type": "code",
   "execution_count": 2,
   "metadata": {
    "ExecuteTime": {
     "end_time": "2021-09-25T13:01:18.719991Z",
     "start_time": "2021-09-25T13:01:13.634184Z"
    }
   },
   "outputs": [],
   "source": [
    "# Read artifact information from metadata store.\n",
    "from fraud.local_runner import METADATA_PATH\n",
    "\n",
    "from tfx.orchestration import metadata\n",
    "from tfx.types import standard_artifacts\n",
    "\n",
    "metadata_connection_config = metadata.sqlite_metadata_connection_config(METADATA_PATH)\n",
    "with metadata.Metadata(metadata_connection_config) as store:\n",
    "    stats_artifacts = store.get_artifacts_by_type(standard_artifacts.ExampleStatistics.TYPE_NAME)\n",
    "    schema_artifacts = store.get_artifacts_by_type(standard_artifacts.Schema.TYPE_NAME)\n",
    "    anomalies_artifacts = store.get_artifacts_by_type(standard_artifacts.ExampleAnomalies.TYPE_NAME)\n"
   ]
  },
  {
   "cell_type": "code",
   "execution_count": null,
   "metadata": {},
   "outputs": [],
   "source": []
  },
  {
   "cell_type": "code",
   "execution_count": 21,
   "metadata": {
    "ExecuteTime": {
     "end_time": "2021-09-25T13:11:03.923053Z",
     "start_time": "2021-09-25T13:11:03.911990Z"
    }
   },
   "outputs": [
    {
     "name": "stdout",
     "output_type": "stream",
     "text": [
      "Train stats file:/Users/ivan/Documents/dev/learn/tfx/pipeline_outputs/tfx_pipeline_output/fraud/StatisticsGen/statistics/151/Split-train/FeatureStats.pb, Eval stats file:/Users/ivan/Documents/dev/learn/tfx/pipeline_outputs/tfx_pipeline_output/fraud/StatisticsGen/statistics/151/Split-eval/FeatureStats.pb\n",
      "Generated schame file:/Users/ivan/Documents/dev/learn/tfx/pipeline_outputs/tfx_pipeline_output/fraud/Transform/post_transform_schema/154/schema.pbtxt\n",
      "Generated anomalies file:/Users/ivan/Documents/dev/learn/tfx/pipeline_outputs/tfx_pipeline_output/fraud/Transform/post_transform_anomalies/154/anomalies.pbtxt\n"
     ]
    }
   ],
   "source": [
    "# configure output paths\n",
    "# Exact paths to output artifacts can also be found on KFP Web UI if you are using kubeflow.\n",
    "stats_path = [entry for entry in stats_artifacts if \"StatisticsGen\" in entry.uri][-1].uri\n",
    "train_stats_file = os.path.join(stats_path, 'Split-train', 'FeatureStats.pb')\n",
    "eval_stats_file = os.path.join(stats_path, 'Split-eval', 'FeatureStats.pb')\n",
    "print(\"Train stats file:{}, Eval stats file:{}\".format(train_stats_file, eval_stats_file))\n",
    "\n",
    "schema_file = os.path.join(schema_artifacts[-1].uri, 'schema.pbtxt')\n",
    "print(\"Generated schame file:{}\".format(schema_file))\n",
    "anomalies_file = os.path.join(anomalies_artifacts[-1].uri, 'anomalies.pbtxt')\n",
    "print(\"Generated anomalies file:{}\".format(anomalies_file))"
   ]
  },
  {
   "cell_type": "code",
   "execution_count": 22,
   "metadata": {
    "ExecuteTime": {
     "end_time": "2021-09-25T13:11:19.183815Z",
     "start_time": "2021-09-25T13:11:19.132600Z"
    }
   },
   "outputs": [
    {
     "data": {
      "text/html": [
       "<iframe id='facets-iframe' width=\"100%\" height=\"500px\"></iframe>\n",
       "        <script>\n",
       "        facets_iframe = document.getElementById('facets-iframe');\n",
       "        facets_html = '<script src=\"https://cdnjs.cloudflare.com/ajax/libs/webcomponentsjs/1.3.3/webcomponents-lite.js\"><\\/script><link rel=\"import\" href=\"https://raw.githubusercontent.com/PAIR-code/facets/master/facets-dist/facets-jupyter.html\"><facets-overview proto-input=\"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\"></facets-overview>';\n",
       "        facets_iframe.srcdoc = facets_html;\n",
       "         facets_iframe.id = \"\";\n",
       "         setTimeout(() => {\n",
       "           facets_iframe.setAttribute('height', facets_iframe.contentWindow.document.body.offsetHeight + 'px')\n",
       "         }, 1500)\n",
       "         </script>"
      ],
      "text/plain": [
       "<IPython.core.display.HTML object>"
      ]
     },
     "metadata": {},
     "output_type": "display_data"
    }
   ],
   "source": [
    "# load generated statistics from StatisticsGen\n",
    "#stats = tfdv.load_statistics(stats_file)\n",
    "tfdv.load_stats_binary\n",
    "train_stats = tfdv.load_stats_binary(train_stats_file)\n",
    "eval_stats = tfdv.load_stats_binary(eval_stats_file)\n",
    "tfdv.visualize_statistics(\n",
    "    lhs_statistics=train_stats,\n",
    "    rhs_statistics=eval_stats,\n",
    "    lhs_name='train',\n",
    "    rhs_name='eval',\n",
    ")"
   ]
  },
  {
   "cell_type": "code",
   "execution_count": 23,
   "metadata": {
    "ExecuteTime": {
     "end_time": "2021-09-25T13:11:55.652704Z",
     "start_time": "2021-09-25T13:11:55.590588Z"
    }
   },
   "outputs": [
    {
     "data": {
      "text/html": [
       "<div>\n",
       "<style scoped>\n",
       "    .dataframe tbody tr th:only-of-type {\n",
       "        vertical-align: middle;\n",
       "    }\n",
       "\n",
       "    .dataframe tbody tr th {\n",
       "        vertical-align: top;\n",
       "    }\n",
       "\n",
       "    .dataframe thead th {\n",
       "        text-align: right;\n",
       "    }\n",
       "</style>\n",
       "<table border=\"1\" class=\"dataframe\">\n",
       "  <thead>\n",
       "    <tr style=\"text-align: right;\">\n",
       "      <th></th>\n",
       "      <th>Type</th>\n",
       "      <th>Presence</th>\n",
       "      <th>Valency</th>\n",
       "      <th>Domain</th>\n",
       "    </tr>\n",
       "    <tr>\n",
       "      <th>Feature name</th>\n",
       "      <th></th>\n",
       "      <th></th>\n",
       "      <th></th>\n",
       "      <th></th>\n",
       "    </tr>\n",
       "  </thead>\n",
       "  <tbody>\n",
       "    <tr>\n",
       "      <th>'AMT_CREDIT_xf'</th>\n",
       "      <td>FLOAT</td>\n",
       "      <td>required</td>\n",
       "      <td></td>\n",
       "      <td>-</td>\n",
       "    </tr>\n",
       "    <tr>\n",
       "      <th>'AMT_INCOME_TOTAL_xf'</th>\n",
       "      <td>INT</td>\n",
       "      <td>required</td>\n",
       "      <td></td>\n",
       "      <td>-</td>\n",
       "    </tr>\n",
       "    <tr>\n",
       "      <th>'CNT_CHILDREN_xf'</th>\n",
       "      <td>FLOAT</td>\n",
       "      <td>required</td>\n",
       "      <td></td>\n",
       "      <td>-</td>\n",
       "    </tr>\n",
       "    <tr>\n",
       "      <th>'FLAG_MOBIL_xf'</th>\n",
       "      <td>INT</td>\n",
       "      <td>required</td>\n",
       "      <td></td>\n",
       "      <td>-</td>\n",
       "    </tr>\n",
       "    <tr>\n",
       "      <th>'NAME_TYPE_SUITE_xf'</th>\n",
       "      <td>INT</td>\n",
       "      <td>required</td>\n",
       "      <td></td>\n",
       "      <td>-</td>\n",
       "    </tr>\n",
       "    <tr>\n",
       "      <th>'TARGET_xf'</th>\n",
       "      <td>INT</td>\n",
       "      <td>required</td>\n",
       "      <td></td>\n",
       "      <td>-</td>\n",
       "    </tr>\n",
       "  </tbody>\n",
       "</table>\n",
       "</div>"
      ],
      "text/plain": [
       "                        Type  Presence Valency Domain\n",
       "Feature name                                         \n",
       "'AMT_CREDIT_xf'        FLOAT  required              -\n",
       "'AMT_INCOME_TOTAL_xf'    INT  required              -\n",
       "'CNT_CHILDREN_xf'      FLOAT  required              -\n",
       "'FLAG_MOBIL_xf'          INT  required              -\n",
       "'NAME_TYPE_SUITE_xf'     INT  required              -\n",
       "'TARGET_xf'              INT  required              -"
      ]
     },
     "metadata": {},
     "output_type": "display_data"
    }
   ],
   "source": [
    "# load generated schema from SchemaGen\n",
    "schema = tfdv.load_schema_text(schema_file)\n",
    "tfdv.display_schema(schema=schema)"
   ]
  },
  {
   "cell_type": "code",
   "execution_count": 27,
   "metadata": {
    "ExecuteTime": {
     "end_time": "2021-09-25T13:19:53.408917Z",
     "start_time": "2021-09-25T13:19:53.403341Z"
    }
   },
   "outputs": [
    {
     "name": "stdout",
     "output_type": "stream",
     "text": [
      "no anomalies found\n"
     ]
    }
   ],
   "source": [
    "# load data validation result from ExampleValidator\n",
    "try:\n",
    "    anomalies = tfdv.load_anomalies_text(anomalies_file)\n",
    "    tfdv.display_anomalies(anomalies)\n",
    "except:\n",
    "    print('no anomalies found')"
   ]
  },
  {
   "cell_type": "code",
   "execution_count": null,
   "metadata": {},
   "outputs": [],
   "source": []
  }
 ],
 "metadata": {
  "kernelspec": {
   "display_name": "Python 3 (ipykernel)",
   "language": "python",
   "name": "python3"
  },
  "language_info": {
   "codemirror_mode": {
    "name": "ipython",
    "version": 3
   },
   "file_extension": ".py",
   "mimetype": "text/x-python",
   "name": "python",
   "nbconvert_exporter": "python",
   "pygments_lexer": "ipython3",
   "version": "3.8.12"
  },
  "toc": {
   "base_numbering": 1,
   "nav_menu": {},
   "number_sections": true,
   "sideBar": true,
   "skip_h1_title": false,
   "title_cell": "Table of Contents",
   "title_sidebar": "Contents",
   "toc_cell": false,
   "toc_position": {},
   "toc_section_display": true,
   "toc_window_display": false
  },
  "varInspector": {
   "cols": {
    "lenName": 16,
    "lenType": 16,
    "lenVar": 40
   },
   "kernels_config": {
    "python": {
     "delete_cmd_postfix": "",
     "delete_cmd_prefix": "del ",
     "library": "var_list.py",
     "varRefreshCmd": "print(var_dic_list())"
    },
    "r": {
     "delete_cmd_postfix": ") ",
     "delete_cmd_prefix": "rm(",
     "library": "var_list.r",
     "varRefreshCmd": "cat(var_dic_list()) "
    }
   },
   "types_to_exclude": [
    "module",
    "function",
    "builtin_function_or_method",
    "instance",
    "_Feature"
   ],
   "window_display": false
  }
 },
 "nbformat": 4,
 "nbformat_minor": 2
}
